{
 "cells": [
  {
   "cell_type": "markdown",
   "metadata": {},
   "source": [
    "# Multivariable prediction with LSTM network"
   ]
  },
  {
   "cell_type": "markdown",
   "metadata": {},
   "source": [
    "The purpose of this document is to show the procedure for using the LSTM network with more than one variable as input. In this case, we are trying to predict Apple's \"Close\" value, based on the \"Open\", \"High\" and \"Low\" values, and the Volume operation. "
   ]
  },
  {
   "cell_type": "code",
   "execution_count": 1,
   "metadata": {},
   "outputs": [
    {
     "name": "stderr",
     "output_type": "stream",
     "text": [
      "Using TensorFlow backend.\n"
     ]
    }
   ],
   "source": [
    "import pandas as pd\n",
    "import numpy as np\n",
    "import keras\n",
    "import matplotlib.pyplot as plt\n",
    "from sklearn.preprocessing import MinMaxScaler\n",
    "from pandas.plotting import register_matplotlib_converters\n",
    "register_matplotlib_converters()\n",
    "from sklearn.metrics import mean_squared_error\n",
    "from keras.preprocessing.sequence import TimeseriesGenerator\n",
    "from keras.models import Sequential\n",
    "from keras.layers import Dense\n",
    "from keras.layers import LSTM"
   ]
  },
  {
   "cell_type": "code",
   "execution_count": 2,
   "metadata": {},
   "outputs": [
    {
     "data": {
      "text/html": [
       "<div>\n",
       "<style scoped>\n",
       "    .dataframe tbody tr th:only-of-type {\n",
       "        vertical-align: middle;\n",
       "    }\n",
       "\n",
       "    .dataframe tbody tr th {\n",
       "        vertical-align: top;\n",
       "    }\n",
       "\n",
       "    .dataframe thead th {\n",
       "        text-align: right;\n",
       "    }\n",
       "</style>\n",
       "<table border=\"1\" class=\"dataframe\">\n",
       "  <thead>\n",
       "    <tr style=\"text-align: right;\">\n",
       "      <th></th>\n",
       "      <th>Open</th>\n",
       "      <th>High</th>\n",
       "      <th>Low</th>\n",
       "      <th>Close</th>\n",
       "      <th>Volume</th>\n",
       "    </tr>\n",
       "    <tr>\n",
       "      <th>Date</th>\n",
       "      <th></th>\n",
       "      <th></th>\n",
       "      <th></th>\n",
       "      <th></th>\n",
       "      <th></th>\n",
       "    </tr>\n",
       "  </thead>\n",
       "  <tbody>\n",
       "    <tr>\n",
       "      <td>2006-01-03</td>\n",
       "      <td>10.34</td>\n",
       "      <td>10.68</td>\n",
       "      <td>10.32</td>\n",
       "      <td>10.68</td>\n",
       "      <td>201853036</td>\n",
       "    </tr>\n",
       "    <tr>\n",
       "      <td>2006-01-04</td>\n",
       "      <td>10.73</td>\n",
       "      <td>10.85</td>\n",
       "      <td>10.64</td>\n",
       "      <td>10.71</td>\n",
       "      <td>155225609</td>\n",
       "    </tr>\n",
       "    <tr>\n",
       "      <td>2006-01-05</td>\n",
       "      <td>10.69</td>\n",
       "      <td>10.70</td>\n",
       "      <td>10.54</td>\n",
       "      <td>10.63</td>\n",
       "      <td>112396081</td>\n",
       "    </tr>\n",
       "    <tr>\n",
       "      <td>2006-01-06</td>\n",
       "      <td>10.75</td>\n",
       "      <td>10.96</td>\n",
       "      <td>10.65</td>\n",
       "      <td>10.90</td>\n",
       "      <td>176139334</td>\n",
       "    </tr>\n",
       "    <tr>\n",
       "      <td>2006-01-09</td>\n",
       "      <td>10.96</td>\n",
       "      <td>11.03</td>\n",
       "      <td>10.82</td>\n",
       "      <td>10.86</td>\n",
       "      <td>168861224</td>\n",
       "    </tr>\n",
       "    <tr>\n",
       "      <td>...</td>\n",
       "      <td>...</td>\n",
       "      <td>...</td>\n",
       "      <td>...</td>\n",
       "      <td>...</td>\n",
       "      <td>...</td>\n",
       "    </tr>\n",
       "    <tr>\n",
       "      <td>2017-12-22</td>\n",
       "      <td>174.68</td>\n",
       "      <td>175.42</td>\n",
       "      <td>174.50</td>\n",
       "      <td>175.01</td>\n",
       "      <td>16349444</td>\n",
       "    </tr>\n",
       "    <tr>\n",
       "      <td>2017-12-26</td>\n",
       "      <td>170.80</td>\n",
       "      <td>171.47</td>\n",
       "      <td>169.68</td>\n",
       "      <td>170.57</td>\n",
       "      <td>33185536</td>\n",
       "    </tr>\n",
       "    <tr>\n",
       "      <td>2017-12-27</td>\n",
       "      <td>170.10</td>\n",
       "      <td>170.78</td>\n",
       "      <td>169.71</td>\n",
       "      <td>170.60</td>\n",
       "      <td>21498213</td>\n",
       "    </tr>\n",
       "    <tr>\n",
       "      <td>2017-12-28</td>\n",
       "      <td>171.00</td>\n",
       "      <td>171.85</td>\n",
       "      <td>170.48</td>\n",
       "      <td>171.08</td>\n",
       "      <td>16480187</td>\n",
       "    </tr>\n",
       "    <tr>\n",
       "      <td>2017-12-29</td>\n",
       "      <td>170.52</td>\n",
       "      <td>170.59</td>\n",
       "      <td>169.22</td>\n",
       "      <td>169.23</td>\n",
       "      <td>25999922</td>\n",
       "    </tr>\n",
       "  </tbody>\n",
       "</table>\n",
       "<p>3019 rows × 5 columns</p>\n",
       "</div>"
      ],
      "text/plain": [
       "              Open    High     Low   Close     Volume\n",
       "Date                                                 \n",
       "2006-01-03   10.34   10.68   10.32   10.68  201853036\n",
       "2006-01-04   10.73   10.85   10.64   10.71  155225609\n",
       "2006-01-05   10.69   10.70   10.54   10.63  112396081\n",
       "2006-01-06   10.75   10.96   10.65   10.90  176139334\n",
       "2006-01-09   10.96   11.03   10.82   10.86  168861224\n",
       "...            ...     ...     ...     ...        ...\n",
       "2017-12-22  174.68  175.42  174.50  175.01   16349444\n",
       "2017-12-26  170.80  171.47  169.68  170.57   33185536\n",
       "2017-12-27  170.10  170.78  169.71  170.60   21498213\n",
       "2017-12-28  171.00  171.85  170.48  171.08   16480187\n",
       "2017-12-29  170.52  170.59  169.22  169.23   25999922\n",
       "\n",
       "[3019 rows x 5 columns]"
      ]
     },
     "execution_count": 2,
     "metadata": {},
     "output_type": "execute_result"
    }
   ],
   "source": [
    "df = pd.read_csv('AAPL_2006-01-01_to_2018-01-01.csv', index_col='Date', parse_dates=['Date']) # read data \n",
    "df = df.drop(\"Name\", axis = 1)\n",
    "df"
   ]
  },
  {
   "cell_type": "code",
   "execution_count": 3,
   "metadata": {},
   "outputs": [],
   "source": [
    "test_size = int(len(df) * 0.1) # here I said that the test data will be 10% (0.1) of the entire data\n",
    "train = df.iloc[:-test_size,:].copy()\n",
    "test = df.iloc[-test_size:,:].copy()"
   ]
  },
  {
   "cell_type": "code",
   "execution_count": 4,
   "metadata": {},
   "outputs": [
    {
     "data": {
      "text/html": [
       "<div>\n",
       "<style scoped>\n",
       "    .dataframe tbody tr th:only-of-type {\n",
       "        vertical-align: middle;\n",
       "    }\n",
       "\n",
       "    .dataframe tbody tr th {\n",
       "        vertical-align: top;\n",
       "    }\n",
       "\n",
       "    .dataframe thead th {\n",
       "        text-align: right;\n",
       "    }\n",
       "</style>\n",
       "<table border=\"1\" class=\"dataframe\">\n",
       "  <thead>\n",
       "    <tr style=\"text-align: right;\">\n",
       "      <th></th>\n",
       "      <th>Open</th>\n",
       "      <th>High</th>\n",
       "      <th>Low</th>\n",
       "      <th>Close</th>\n",
       "      <th>Volume</th>\n",
       "    </tr>\n",
       "    <tr>\n",
       "      <th>Date</th>\n",
       "      <th></th>\n",
       "      <th></th>\n",
       "      <th></th>\n",
       "      <th></th>\n",
       "      <th></th>\n",
       "    </tr>\n",
       "  </thead>\n",
       "  <tbody>\n",
       "    <tr>\n",
       "      <td>2006-01-03</td>\n",
       "      <td>10.34</td>\n",
       "      <td>10.68</td>\n",
       "      <td>10.32</td>\n",
       "      <td>10.68</td>\n",
       "      <td>201853036</td>\n",
       "    </tr>\n",
       "    <tr>\n",
       "      <td>2006-01-04</td>\n",
       "      <td>10.73</td>\n",
       "      <td>10.85</td>\n",
       "      <td>10.64</td>\n",
       "      <td>10.71</td>\n",
       "      <td>155225609</td>\n",
       "    </tr>\n",
       "    <tr>\n",
       "      <td>2006-01-05</td>\n",
       "      <td>10.69</td>\n",
       "      <td>10.70</td>\n",
       "      <td>10.54</td>\n",
       "      <td>10.63</td>\n",
       "      <td>112396081</td>\n",
       "    </tr>\n",
       "    <tr>\n",
       "      <td>2006-01-06</td>\n",
       "      <td>10.75</td>\n",
       "      <td>10.96</td>\n",
       "      <td>10.65</td>\n",
       "      <td>10.90</td>\n",
       "      <td>176139334</td>\n",
       "    </tr>\n",
       "    <tr>\n",
       "      <td>2006-01-09</td>\n",
       "      <td>10.96</td>\n",
       "      <td>11.03</td>\n",
       "      <td>10.82</td>\n",
       "      <td>10.86</td>\n",
       "      <td>168861224</td>\n",
       "    </tr>\n",
       "    <tr>\n",
       "      <td>...</td>\n",
       "      <td>...</td>\n",
       "      <td>...</td>\n",
       "      <td>...</td>\n",
       "      <td>...</td>\n",
       "      <td>...</td>\n",
       "    </tr>\n",
       "    <tr>\n",
       "      <td>2016-10-13</td>\n",
       "      <td>116.79</td>\n",
       "      <td>117.44</td>\n",
       "      <td>115.72</td>\n",
       "      <td>116.98</td>\n",
       "      <td>35192406</td>\n",
       "    </tr>\n",
       "    <tr>\n",
       "      <td>2016-10-14</td>\n",
       "      <td>117.88</td>\n",
       "      <td>118.17</td>\n",
       "      <td>117.13</td>\n",
       "      <td>117.63</td>\n",
       "      <td>35652191</td>\n",
       "    </tr>\n",
       "    <tr>\n",
       "      <td>2016-10-17</td>\n",
       "      <td>117.33</td>\n",
       "      <td>117.84</td>\n",
       "      <td>116.78</td>\n",
       "      <td>117.55</td>\n",
       "      <td>23624896</td>\n",
       "    </tr>\n",
       "    <tr>\n",
       "      <td>2016-10-18</td>\n",
       "      <td>118.18</td>\n",
       "      <td>118.21</td>\n",
       "      <td>117.45</td>\n",
       "      <td>117.47</td>\n",
       "      <td>24553478</td>\n",
       "    </tr>\n",
       "    <tr>\n",
       "      <td>2016-10-19</td>\n",
       "      <td>117.25</td>\n",
       "      <td>117.76</td>\n",
       "      <td>113.80</td>\n",
       "      <td>117.12</td>\n",
       "      <td>20034594</td>\n",
       "    </tr>\n",
       "  </tbody>\n",
       "</table>\n",
       "<p>2718 rows × 5 columns</p>\n",
       "</div>"
      ],
      "text/plain": [
       "              Open    High     Low   Close     Volume\n",
       "Date                                                 \n",
       "2006-01-03   10.34   10.68   10.32   10.68  201853036\n",
       "2006-01-04   10.73   10.85   10.64   10.71  155225609\n",
       "2006-01-05   10.69   10.70   10.54   10.63  112396081\n",
       "2006-01-06   10.75   10.96   10.65   10.90  176139334\n",
       "2006-01-09   10.96   11.03   10.82   10.86  168861224\n",
       "...            ...     ...     ...     ...        ...\n",
       "2016-10-13  116.79  117.44  115.72  116.98   35192406\n",
       "2016-10-14  117.88  118.17  117.13  117.63   35652191\n",
       "2016-10-17  117.33  117.84  116.78  117.55   23624896\n",
       "2016-10-18  118.18  118.21  117.45  117.47   24553478\n",
       "2016-10-19  117.25  117.76  113.80  117.12   20034594\n",
       "\n",
       "[2718 rows x 5 columns]"
      ]
     },
     "execution_count": 4,
     "metadata": {},
     "output_type": "execute_result"
    }
   ],
   "source": [
    "train"
   ]
  },
  {
   "cell_type": "code",
   "execution_count": 5,
   "metadata": {},
   "outputs": [
    {
     "data": {
      "text/html": [
       "<div>\n",
       "<style scoped>\n",
       "    .dataframe tbody tr th:only-of-type {\n",
       "        vertical-align: middle;\n",
       "    }\n",
       "\n",
       "    .dataframe tbody tr th {\n",
       "        vertical-align: top;\n",
       "    }\n",
       "\n",
       "    .dataframe thead th {\n",
       "        text-align: right;\n",
       "    }\n",
       "</style>\n",
       "<table border=\"1\" class=\"dataframe\">\n",
       "  <thead>\n",
       "    <tr style=\"text-align: right;\">\n",
       "      <th></th>\n",
       "      <th>Open</th>\n",
       "      <th>High</th>\n",
       "      <th>Low</th>\n",
       "      <th>Close</th>\n",
       "      <th>Volume</th>\n",
       "    </tr>\n",
       "    <tr>\n",
       "      <th>Date</th>\n",
       "      <th></th>\n",
       "      <th></th>\n",
       "      <th></th>\n",
       "      <th></th>\n",
       "      <th></th>\n",
       "    </tr>\n",
       "  </thead>\n",
       "  <tbody>\n",
       "    <tr>\n",
       "      <td>2016-10-20</td>\n",
       "      <td>116.86</td>\n",
       "      <td>117.38</td>\n",
       "      <td>116.33</td>\n",
       "      <td>117.06</td>\n",
       "      <td>24125801</td>\n",
       "    </tr>\n",
       "    <tr>\n",
       "      <td>2016-10-21</td>\n",
       "      <td>116.81</td>\n",
       "      <td>116.91</td>\n",
       "      <td>116.28</td>\n",
       "      <td>116.60</td>\n",
       "      <td>23192665</td>\n",
       "    </tr>\n",
       "    <tr>\n",
       "      <td>2016-10-24</td>\n",
       "      <td>117.10</td>\n",
       "      <td>117.74</td>\n",
       "      <td>117.00</td>\n",
       "      <td>117.65</td>\n",
       "      <td>23538673</td>\n",
       "    </tr>\n",
       "    <tr>\n",
       "      <td>2016-10-25</td>\n",
       "      <td>117.95</td>\n",
       "      <td>118.36</td>\n",
       "      <td>117.31</td>\n",
       "      <td>118.25</td>\n",
       "      <td>48128970</td>\n",
       "    </tr>\n",
       "    <tr>\n",
       "      <td>2016-10-26</td>\n",
       "      <td>114.31</td>\n",
       "      <td>115.70</td>\n",
       "      <td>113.31</td>\n",
       "      <td>115.59</td>\n",
       "      <td>66134219</td>\n",
       "    </tr>\n",
       "    <tr>\n",
       "      <td>...</td>\n",
       "      <td>...</td>\n",
       "      <td>...</td>\n",
       "      <td>...</td>\n",
       "      <td>...</td>\n",
       "      <td>...</td>\n",
       "    </tr>\n",
       "    <tr>\n",
       "      <td>2017-12-22</td>\n",
       "      <td>174.68</td>\n",
       "      <td>175.42</td>\n",
       "      <td>174.50</td>\n",
       "      <td>175.01</td>\n",
       "      <td>16349444</td>\n",
       "    </tr>\n",
       "    <tr>\n",
       "      <td>2017-12-26</td>\n",
       "      <td>170.80</td>\n",
       "      <td>171.47</td>\n",
       "      <td>169.68</td>\n",
       "      <td>170.57</td>\n",
       "      <td>33185536</td>\n",
       "    </tr>\n",
       "    <tr>\n",
       "      <td>2017-12-27</td>\n",
       "      <td>170.10</td>\n",
       "      <td>170.78</td>\n",
       "      <td>169.71</td>\n",
       "      <td>170.60</td>\n",
       "      <td>21498213</td>\n",
       "    </tr>\n",
       "    <tr>\n",
       "      <td>2017-12-28</td>\n",
       "      <td>171.00</td>\n",
       "      <td>171.85</td>\n",
       "      <td>170.48</td>\n",
       "      <td>171.08</td>\n",
       "      <td>16480187</td>\n",
       "    </tr>\n",
       "    <tr>\n",
       "      <td>2017-12-29</td>\n",
       "      <td>170.52</td>\n",
       "      <td>170.59</td>\n",
       "      <td>169.22</td>\n",
       "      <td>169.23</td>\n",
       "      <td>25999922</td>\n",
       "    </tr>\n",
       "  </tbody>\n",
       "</table>\n",
       "<p>301 rows × 5 columns</p>\n",
       "</div>"
      ],
      "text/plain": [
       "              Open    High     Low   Close    Volume\n",
       "Date                                                \n",
       "2016-10-20  116.86  117.38  116.33  117.06  24125801\n",
       "2016-10-21  116.81  116.91  116.28  116.60  23192665\n",
       "2016-10-24  117.10  117.74  117.00  117.65  23538673\n",
       "2016-10-25  117.95  118.36  117.31  118.25  48128970\n",
       "2016-10-26  114.31  115.70  113.31  115.59  66134219\n",
       "...            ...     ...     ...     ...       ...\n",
       "2017-12-22  174.68  175.42  174.50  175.01  16349444\n",
       "2017-12-26  170.80  171.47  169.68  170.57  33185536\n",
       "2017-12-27  170.10  170.78  169.71  170.60  21498213\n",
       "2017-12-28  171.00  171.85  170.48  171.08  16480187\n",
       "2017-12-29  170.52  170.59  169.22  169.23  25999922\n",
       "\n",
       "[301 rows x 5 columns]"
      ]
     },
     "execution_count": 5,
     "metadata": {},
     "output_type": "execute_result"
    }
   ],
   "source": [
    "test"
   ]
  },
  {
   "cell_type": "code",
   "execution_count": 6,
   "metadata": {},
   "outputs": [
    {
     "name": "stdout",
     "output_type": "stream",
     "text": [
      "(2718, 4) (2718, 1)\n"
     ]
    }
   ],
   "source": [
    "X_train = train.drop(\"Close\",axis=1).copy()\n",
    "y_train = train[[\"Close\"]].copy() # the double brakets here are to keep the y in dataframe format, otherwise it will be pandas Series\n",
    "print(X_train.shape, y_train.shape)"
   ]
  },
  {
   "cell_type": "code",
   "execution_count": 7,
   "metadata": {},
   "outputs": [
    {
     "data": {
      "text/html": [
       "<div>\n",
       "<style scoped>\n",
       "    .dataframe tbody tr th:only-of-type {\n",
       "        vertical-align: middle;\n",
       "    }\n",
       "\n",
       "    .dataframe tbody tr th {\n",
       "        vertical-align: top;\n",
       "    }\n",
       "\n",
       "    .dataframe thead th {\n",
       "        text-align: right;\n",
       "    }\n",
       "</style>\n",
       "<table border=\"1\" class=\"dataframe\">\n",
       "  <thead>\n",
       "    <tr style=\"text-align: right;\">\n",
       "      <th></th>\n",
       "      <th>Open</th>\n",
       "      <th>High</th>\n",
       "      <th>Low</th>\n",
       "      <th>Volume</th>\n",
       "    </tr>\n",
       "    <tr>\n",
       "      <th>Date</th>\n",
       "      <th></th>\n",
       "      <th></th>\n",
       "      <th></th>\n",
       "      <th></th>\n",
       "    </tr>\n",
       "  </thead>\n",
       "  <tbody>\n",
       "    <tr>\n",
       "      <td>2006-01-03</td>\n",
       "      <td>10.34</td>\n",
       "      <td>10.68</td>\n",
       "      <td>10.32</td>\n",
       "      <td>201853036</td>\n",
       "    </tr>\n",
       "    <tr>\n",
       "      <td>2006-01-04</td>\n",
       "      <td>10.73</td>\n",
       "      <td>10.85</td>\n",
       "      <td>10.64</td>\n",
       "      <td>155225609</td>\n",
       "    </tr>\n",
       "    <tr>\n",
       "      <td>2006-01-05</td>\n",
       "      <td>10.69</td>\n",
       "      <td>10.70</td>\n",
       "      <td>10.54</td>\n",
       "      <td>112396081</td>\n",
       "    </tr>\n",
       "    <tr>\n",
       "      <td>2006-01-06</td>\n",
       "      <td>10.75</td>\n",
       "      <td>10.96</td>\n",
       "      <td>10.65</td>\n",
       "      <td>176139334</td>\n",
       "    </tr>\n",
       "    <tr>\n",
       "      <td>2006-01-09</td>\n",
       "      <td>10.96</td>\n",
       "      <td>11.03</td>\n",
       "      <td>10.82</td>\n",
       "      <td>168861224</td>\n",
       "    </tr>\n",
       "    <tr>\n",
       "      <td>...</td>\n",
       "      <td>...</td>\n",
       "      <td>...</td>\n",
       "      <td>...</td>\n",
       "      <td>...</td>\n",
       "    </tr>\n",
       "    <tr>\n",
       "      <td>2016-10-13</td>\n",
       "      <td>116.79</td>\n",
       "      <td>117.44</td>\n",
       "      <td>115.72</td>\n",
       "      <td>35192406</td>\n",
       "    </tr>\n",
       "    <tr>\n",
       "      <td>2016-10-14</td>\n",
       "      <td>117.88</td>\n",
       "      <td>118.17</td>\n",
       "      <td>117.13</td>\n",
       "      <td>35652191</td>\n",
       "    </tr>\n",
       "    <tr>\n",
       "      <td>2016-10-17</td>\n",
       "      <td>117.33</td>\n",
       "      <td>117.84</td>\n",
       "      <td>116.78</td>\n",
       "      <td>23624896</td>\n",
       "    </tr>\n",
       "    <tr>\n",
       "      <td>2016-10-18</td>\n",
       "      <td>118.18</td>\n",
       "      <td>118.21</td>\n",
       "      <td>117.45</td>\n",
       "      <td>24553478</td>\n",
       "    </tr>\n",
       "    <tr>\n",
       "      <td>2016-10-19</td>\n",
       "      <td>117.25</td>\n",
       "      <td>117.76</td>\n",
       "      <td>113.80</td>\n",
       "      <td>20034594</td>\n",
       "    </tr>\n",
       "  </tbody>\n",
       "</table>\n",
       "<p>2718 rows × 4 columns</p>\n",
       "</div>"
      ],
      "text/plain": [
       "              Open    High     Low     Volume\n",
       "Date                                         \n",
       "2006-01-03   10.34   10.68   10.32  201853036\n",
       "2006-01-04   10.73   10.85   10.64  155225609\n",
       "2006-01-05   10.69   10.70   10.54  112396081\n",
       "2006-01-06   10.75   10.96   10.65  176139334\n",
       "2006-01-09   10.96   11.03   10.82  168861224\n",
       "...            ...     ...     ...        ...\n",
       "2016-10-13  116.79  117.44  115.72   35192406\n",
       "2016-10-14  117.88  118.17  117.13   35652191\n",
       "2016-10-17  117.33  117.84  116.78   23624896\n",
       "2016-10-18  118.18  118.21  117.45   24553478\n",
       "2016-10-19  117.25  117.76  113.80   20034594\n",
       "\n",
       "[2718 rows x 4 columns]"
      ]
     },
     "execution_count": 7,
     "metadata": {},
     "output_type": "execute_result"
    }
   ],
   "source": [
    "X_train"
   ]
  },
  {
   "cell_type": "code",
   "execution_count": 8,
   "metadata": {},
   "outputs": [
    {
     "data": {
      "text/html": [
       "<div>\n",
       "<style scoped>\n",
       "    .dataframe tbody tr th:only-of-type {\n",
       "        vertical-align: middle;\n",
       "    }\n",
       "\n",
       "    .dataframe tbody tr th {\n",
       "        vertical-align: top;\n",
       "    }\n",
       "\n",
       "    .dataframe thead th {\n",
       "        text-align: right;\n",
       "    }\n",
       "</style>\n",
       "<table border=\"1\" class=\"dataframe\">\n",
       "  <thead>\n",
       "    <tr style=\"text-align: right;\">\n",
       "      <th></th>\n",
       "      <th>Close</th>\n",
       "    </tr>\n",
       "    <tr>\n",
       "      <th>Date</th>\n",
       "      <th></th>\n",
       "    </tr>\n",
       "  </thead>\n",
       "  <tbody>\n",
       "    <tr>\n",
       "      <td>2006-01-03</td>\n",
       "      <td>10.68</td>\n",
       "    </tr>\n",
       "    <tr>\n",
       "      <td>2006-01-04</td>\n",
       "      <td>10.71</td>\n",
       "    </tr>\n",
       "    <tr>\n",
       "      <td>2006-01-05</td>\n",
       "      <td>10.63</td>\n",
       "    </tr>\n",
       "    <tr>\n",
       "      <td>2006-01-06</td>\n",
       "      <td>10.90</td>\n",
       "    </tr>\n",
       "    <tr>\n",
       "      <td>2006-01-09</td>\n",
       "      <td>10.86</td>\n",
       "    </tr>\n",
       "    <tr>\n",
       "      <td>...</td>\n",
       "      <td>...</td>\n",
       "    </tr>\n",
       "    <tr>\n",
       "      <td>2016-10-13</td>\n",
       "      <td>116.98</td>\n",
       "    </tr>\n",
       "    <tr>\n",
       "      <td>2016-10-14</td>\n",
       "      <td>117.63</td>\n",
       "    </tr>\n",
       "    <tr>\n",
       "      <td>2016-10-17</td>\n",
       "      <td>117.55</td>\n",
       "    </tr>\n",
       "    <tr>\n",
       "      <td>2016-10-18</td>\n",
       "      <td>117.47</td>\n",
       "    </tr>\n",
       "    <tr>\n",
       "      <td>2016-10-19</td>\n",
       "      <td>117.12</td>\n",
       "    </tr>\n",
       "  </tbody>\n",
       "</table>\n",
       "<p>2718 rows × 1 columns</p>\n",
       "</div>"
      ],
      "text/plain": [
       "             Close\n",
       "Date              \n",
       "2006-01-03   10.68\n",
       "2006-01-04   10.71\n",
       "2006-01-05   10.63\n",
       "2006-01-06   10.90\n",
       "2006-01-09   10.86\n",
       "...            ...\n",
       "2016-10-13  116.98\n",
       "2016-10-14  117.63\n",
       "2016-10-17  117.55\n",
       "2016-10-18  117.47\n",
       "2016-10-19  117.12\n",
       "\n",
       "[2718 rows x 1 columns]"
      ]
     },
     "execution_count": 8,
     "metadata": {},
     "output_type": "execute_result"
    }
   ],
   "source": [
    "y_train"
   ]
  },
  {
   "cell_type": "code",
   "execution_count": 9,
   "metadata": {},
   "outputs": [
    {
     "name": "stdout",
     "output_type": "stream",
     "text": [
      "(2718, 4) (2718,)\n"
     ]
    }
   ],
   "source": [
    "Xscaler = MinMaxScaler(feature_range=(0, 1)) # scale so that all the X data will range from 0 to 1\n",
    "Xscaler.fit(X_train)\n",
    "scaled_X_train = Xscaler.transform(X_train)\n",
    "Yscaler = MinMaxScaler(feature_range=(0, 1))\n",
    "Yscaler.fit(y_train)\n",
    "scaled_y_train = Yscaler.transform(y_train)\n",
    "scaled_y_train = scaled_y_train.reshape(-1) # remove the second dimention from y so the shape changes from (n,1) to (n,)\n",
    "print(scaled_X_train.shape, scaled_y_train.shape)"
   ]
  },
  {
   "cell_type": "code",
   "execution_count": 10,
   "metadata": {},
   "outputs": [
    {
     "data": {
      "text/plain": [
       "array([[0.02321555, 0.0245708 , 0.02535619, 0.22742073],\n",
       "       [0.02628472, 0.02590959, 0.02793206, 0.17125802],\n",
       "       [0.02596994, 0.0247283 , 0.0271271 , 0.11966987],\n",
       "       ...,\n",
       "       [0.86519241, 0.86848323, 0.88231506, 0.01274502],\n",
       "       [0.87188164, 0.87139707, 0.88770828, 0.0138635 ],\n",
       "       [0.86456284, 0.86785321, 0.8583273 , 0.0084205 ]])"
      ]
     },
     "execution_count": 10,
     "metadata": {},
     "output_type": "execute_result"
    }
   ],
   "source": [
    "scaled_X_train"
   ]
  },
  {
   "cell_type": "code",
   "execution_count": 11,
   "metadata": {},
   "outputs": [
    {
     "data": {
      "text/plain": [
       "array([0.02735369, 0.02759224, 0.02695611, ..., 0.87714695, 0.87651081,\n",
       "       0.87372774])"
      ]
     },
     "execution_count": 11,
     "metadata": {},
     "output_type": "execute_result"
    }
   ],
   "source": [
    "scaled_y_train"
   ]
  },
  {
   "cell_type": "code",
   "execution_count": 12,
   "metadata": {},
   "outputs": [],
   "source": [
    "# move \"y\" one place in the array, and delete the last value of it\n",
    "scaled_y_train = np.insert(scaled_y_train, 0, 0)\n",
    "scaled_y_train = np.delete(scaled_y_train, -1)"
   ]
  },
  {
   "cell_type": "code",
   "execution_count": 13,
   "metadata": {},
   "outputs": [
    {
     "data": {
      "text/plain": [
       "array([0.        , 0.02735369, 0.02759224, ..., 0.87778308, 0.87714695,\n",
       "       0.87651081])"
      ]
     },
     "execution_count": 13,
     "metadata": {},
     "output_type": "execute_result"
    }
   ],
   "source": [
    "scaled_y_train"
   ]
  },
  {
   "cell_type": "code",
   "execution_count": 14,
   "metadata": {},
   "outputs": [],
   "source": [
    "n_input = 25 #how many samples/rows/timesteps to look in the past in order to forecast the next sample\n",
    "n_features= X_train.shape[1] # how many predictors/Xs/features we have to predict y\n",
    "b_size = 32 # Number of timeseries samples in each batch\n",
    "generator = TimeseriesGenerator(scaled_X_train, scaled_y_train, length=n_input, batch_size=b_size) #The TimeseriesGenerator transforms the separate X and y into a structure of samples ready to train deep learning models "
   ]
  },
  {
   "cell_type": "code",
   "execution_count": 15,
   "metadata": {},
   "outputs": [
    {
     "data": {
      "text/plain": [
       "array([[0.02321555, 0.0245708 , 0.02535619, 0.22742073],\n",
       "       [0.02628472, 0.02590959, 0.02793206, 0.17125802],\n",
       "       [0.02596994, 0.0247283 , 0.0271271 , 0.11966987],\n",
       "       ...,\n",
       "       [0.86519241, 0.86848323, 0.88231506, 0.01274502],\n",
       "       [0.87188164, 0.87139707, 0.88770828, 0.0138635 ],\n",
       "       [0.86456284, 0.86785321, 0.8583273 , 0.0084205 ]])"
      ]
     },
     "execution_count": 15,
     "metadata": {},
     "output_type": "execute_result"
    }
   ],
   "source": [
    "generator.data"
   ]
  },
  {
   "cell_type": "code",
   "execution_count": 16,
   "metadata": {},
   "outputs": [
    {
     "data": {
      "text/plain": [
       "(2718, 4)"
      ]
     },
     "execution_count": 16,
     "metadata": {},
     "output_type": "execute_result"
    }
   ],
   "source": [
    "generator.data.shape"
   ]
  },
  {
   "cell_type": "code",
   "execution_count": 17,
   "metadata": {},
   "outputs": [
    {
     "data": {
      "text/plain": [
       "array([0.        , 0.02735369, 0.02759224, ..., 0.87778308, 0.87714695,\n",
       "       0.87651081])"
      ]
     },
     "execution_count": 17,
     "metadata": {},
     "output_type": "execute_result"
    }
   ],
   "source": [
    "generator.targets"
   ]
  },
  {
   "cell_type": "code",
   "execution_count": 18,
   "metadata": {},
   "outputs": [
    {
     "data": {
      "text/plain": [
       "(2718,)"
      ]
     },
     "execution_count": 18,
     "metadata": {},
     "output_type": "execute_result"
    }
   ],
   "source": [
    "generator.targets.shape"
   ]
  },
  {
   "cell_type": "code",
   "execution_count": 19,
   "metadata": {},
   "outputs": [
    {
     "data": {
      "text/plain": [
       "(32, 25, 4)"
      ]
     },
     "execution_count": 19,
     "metadata": {},
     "output_type": "execute_result"
    }
   ],
   "source": [
    "generator[0][0].shape # The shape should be (batch_size,n_input,n_features)"
   ]
  },
  {
   "cell_type": "code",
   "execution_count": 20,
   "metadata": {},
   "outputs": [],
   "source": [
    "# 1st example\n",
    "\n",
    "model = Sequential()\n",
    "\n",
    "model.add(LSTM(150, activation='relu', input_shape=(n_input, n_features)))\n",
    "\n",
    "model.add(Dense(1, activation='linear'))\n",
    "\n",
    "model.compile(loss='mean_absolute_error', optimizer='adam', metrics=['mean_absolute_error'])"
   ]
  },
  {
   "cell_type": "code",
   "execution_count": 21,
   "metadata": {},
   "outputs": [
    {
     "name": "stdout",
     "output_type": "stream",
     "text": [
      "Epoch 1/5\n",
      "85/85 [==============================] - 10s 114ms/step - loss: 0.0548 - mean_absolute_error: 0.0547\n",
      "Epoch 2/5\n",
      "85/85 [==============================] - 5s 61ms/step - loss: 0.0215 - mean_absolute_error: 0.0214: 2s\n",
      "Epoch 3/5\n",
      "85/85 [==============================] - 5s 62ms/step - loss: 0.0157 - mean_absolute_error: 0.0155: 3s - loss: 0.0178 - mean_a - ETA: 2s - loss: 0.0159 - mean_absolute_e - ETA: 1s - loss: 0.0160 - mean_absolute_ - ETA: 0s - loss: 0.0168 - mean_absolute_error: 0.0 - ETA: 0s - loss: 0.0167 - mean_absolute_erro\n",
      "Epoch 4/5\n",
      "85/85 [==============================] - 4s 53ms/step - loss: 0.0143 - mean_absolute_error: 0.0139\n",
      "Epoch 5/5\n",
      "85/85 [==============================] - 5s 61ms/step - loss: 0.0129 - mean_absolute_error: 0.0129: 1s - loss: 0.0109 - mean_ab\n"
     ]
    },
    {
     "data": {
      "text/plain": [
       "<keras.callbacks.callbacks.History at 0x21cbef94308>"
      ]
     },
     "execution_count": 21,
     "metadata": {},
     "output_type": "execute_result"
    }
   ],
   "source": [
    "model.fit_generator(generator,epochs=5)"
   ]
  },
  {
   "cell_type": "code",
   "execution_count": 22,
   "metadata": {},
   "outputs": [],
   "source": [
    "X_test = test.drop(\"Close\",axis=1).copy()\n",
    "scaled_X_test = Xscaler.transform(X_test)\n",
    "test_generator = TimeseriesGenerator(scaled_X_test, np.zeros(len(X_test)), length=n_input, batch_size=b_size)"
   ]
  },
  {
   "cell_type": "code",
   "execution_count": 23,
   "metadata": {},
   "outputs": [],
   "source": [
    "y_pred_scaled = model.predict(test_generator)\n",
    "y_pred = Yscaler.inverse_transform(y_pred_scaled)\n",
    "results = pd.DataFrame({'y_true':test[\"Close\"].values[n_input:],'y_pred':y_pred.ravel()})"
   ]
  },
  {
   "cell_type": "code",
   "execution_count": 24,
   "metadata": {},
   "outputs": [
    {
     "data": {
      "text/html": [
       "<div>\n",
       "<style scoped>\n",
       "    .dataframe tbody tr th:only-of-type {\n",
       "        vertical-align: middle;\n",
       "    }\n",
       "\n",
       "    .dataframe tbody tr th {\n",
       "        vertical-align: top;\n",
       "    }\n",
       "\n",
       "    .dataframe thead th {\n",
       "        text-align: right;\n",
       "    }\n",
       "</style>\n",
       "<table border=\"1\" class=\"dataframe\">\n",
       "  <thead>\n",
       "    <tr style=\"text-align: right;\">\n",
       "      <th></th>\n",
       "      <th>y_true</th>\n",
       "      <th>y_pred</th>\n",
       "    </tr>\n",
       "  </thead>\n",
       "  <tbody>\n",
       "    <tr>\n",
       "      <td>0</td>\n",
       "      <td>111.79</td>\n",
       "      <td>111.377937</td>\n",
       "    </tr>\n",
       "    <tr>\n",
       "      <td>1</td>\n",
       "      <td>111.57</td>\n",
       "      <td>111.707062</td>\n",
       "    </tr>\n",
       "    <tr>\n",
       "      <td>2</td>\n",
       "      <td>111.46</td>\n",
       "      <td>112.000008</td>\n",
       "    </tr>\n",
       "    <tr>\n",
       "      <td>3</td>\n",
       "      <td>110.52</td>\n",
       "      <td>112.071968</td>\n",
       "    </tr>\n",
       "    <tr>\n",
       "      <td>4</td>\n",
       "      <td>109.49</td>\n",
       "      <td>112.218201</td>\n",
       "    </tr>\n",
       "    <tr>\n",
       "      <td>...</td>\n",
       "      <td>...</td>\n",
       "      <td>...</td>\n",
       "    </tr>\n",
       "    <tr>\n",
       "      <td>271</td>\n",
       "      <td>175.01</td>\n",
       "      <td>176.587082</td>\n",
       "    </tr>\n",
       "    <tr>\n",
       "      <td>272</td>\n",
       "      <td>170.57</td>\n",
       "      <td>176.866943</td>\n",
       "    </tr>\n",
       "    <tr>\n",
       "      <td>273</td>\n",
       "      <td>170.60</td>\n",
       "      <td>176.002304</td>\n",
       "    </tr>\n",
       "    <tr>\n",
       "      <td>274</td>\n",
       "      <td>171.08</td>\n",
       "      <td>175.354095</td>\n",
       "    </tr>\n",
       "    <tr>\n",
       "      <td>275</td>\n",
       "      <td>169.23</td>\n",
       "      <td>175.043961</td>\n",
       "    </tr>\n",
       "  </tbody>\n",
       "</table>\n",
       "<p>276 rows × 2 columns</p>\n",
       "</div>"
      ],
      "text/plain": [
       "     y_true      y_pred\n",
       "0    111.79  111.377937\n",
       "1    111.57  111.707062\n",
       "2    111.46  112.000008\n",
       "3    110.52  112.071968\n",
       "4    109.49  112.218201\n",
       "..      ...         ...\n",
       "271  175.01  176.587082\n",
       "272  170.57  176.866943\n",
       "273  170.60  176.002304\n",
       "274  171.08  175.354095\n",
       "275  169.23  175.043961\n",
       "\n",
       "[276 rows x 2 columns]"
      ]
     },
     "execution_count": 24,
     "metadata": {},
     "output_type": "execute_result"
    }
   ],
   "source": [
    "results"
   ]
  },
  {
   "cell_type": "code",
   "execution_count": 25,
   "metadata": {},
   "outputs": [
    {
     "data": {
      "text/plain": [
       "<matplotlib.axes._subplots.AxesSubplot at 0x21ccfdd1e88>"
      ]
     },
     "execution_count": 25,
     "metadata": {},
     "output_type": "execute_result"
    },
    {
     "data": {
      "image/png": "[encoded data removed]",
      "text/plain": [
       "<Figure size 432x288 with 1 Axes>"
      ]
     },
     "metadata": {
      "needs_background": "light"
     },
     "output_type": "display_data"
    }
   ],
   "source": [
    "results.plot()"
   ]
  },
  {
   "cell_type": "code",
   "execution_count": 26,
   "metadata": {},
   "outputs": [
    {
     "data": {
      "text/plain": [
       "8.774066479665077"
      ]
     },
     "execution_count": 26,
     "metadata": {},
     "output_type": "execute_result"
    }
   ],
   "source": [
    "mean_squared_error(test[\"Close\"].values[n_input:], y_pred)"
   ]
  },
  {
   "cell_type": "code",
   "execution_count": 27,
   "metadata": {},
   "outputs": [
    {
     "name": "stdout",
     "output_type": "stream",
     "text": [
      "Epoch 1/5\n",
      "84/84 [==============================] - 10s 124ms/step - loss: 0.0418 - mean_absolute_error: 0.0415\n",
      "Epoch 2/5\n",
      "84/84 [==============================] - 9s 111ms/step - loss: 0.0156 - mean_absolute_error: 0.0153\n",
      "Epoch 3/5\n",
      "84/84 [==============================] - 10s 114ms/step - loss: 0.0173 - mean_absolute_error: 0.0173\n",
      "Epoch 4/5\n",
      "84/84 [==============================] - 10s 114ms/step - loss: 0.0147 - mean_absolute_error: 0.0147\n",
      "Epoch 5/5\n",
      "84/84 [==============================] - 10s 125ms/step - loss: 0.0142 - mean_absolute_error: 0.0140\n"
     ]
    },
    {
     "data": {
      "text/html": [
       "<div>\n",
       "<style scoped>\n",
       "    .dataframe tbody tr th:only-of-type {\n",
       "        vertical-align: middle;\n",
       "    }\n",
       "\n",
       "    .dataframe tbody tr th {\n",
       "        vertical-align: top;\n",
       "    }\n",
       "\n",
       "    .dataframe thead th {\n",
       "        text-align: right;\n",
       "    }\n",
       "</style>\n",
       "<table border=\"1\" class=\"dataframe\">\n",
       "  <thead>\n",
       "    <tr style=\"text-align: right;\">\n",
       "      <th></th>\n",
       "      <th>y_true</th>\n",
       "      <th>y_pred</th>\n",
       "    </tr>\n",
       "  </thead>\n",
       "  <tbody>\n",
       "    <tr>\n",
       "      <td>0</td>\n",
       "      <td>116.15</td>\n",
       "      <td>115.680061</td>\n",
       "    </tr>\n",
       "    <tr>\n",
       "      <td>1</td>\n",
       "      <td>116.02</td>\n",
       "      <td>115.446304</td>\n",
       "    </tr>\n",
       "    <tr>\n",
       "      <td>2</td>\n",
       "      <td>116.61</td>\n",
       "      <td>115.399529</td>\n",
       "    </tr>\n",
       "    <tr>\n",
       "      <td>3</td>\n",
       "      <td>117.91</td>\n",
       "      <td>115.382706</td>\n",
       "    </tr>\n",
       "    <tr>\n",
       "      <td>4</td>\n",
       "      <td>118.99</td>\n",
       "      <td>115.581123</td>\n",
       "    </tr>\n",
       "    <tr>\n",
       "      <td>...</td>\n",
       "      <td>...</td>\n",
       "      <td>...</td>\n",
       "    </tr>\n",
       "    <tr>\n",
       "      <td>246</td>\n",
       "      <td>175.01</td>\n",
       "      <td>172.929825</td>\n",
       "    </tr>\n",
       "    <tr>\n",
       "      <td>247</td>\n",
       "      <td>170.57</td>\n",
       "      <td>173.195526</td>\n",
       "    </tr>\n",
       "    <tr>\n",
       "      <td>248</td>\n",
       "      <td>170.60</td>\n",
       "      <td>172.205353</td>\n",
       "    </tr>\n",
       "    <tr>\n",
       "      <td>249</td>\n",
       "      <td>171.08</td>\n",
       "      <td>171.468674</td>\n",
       "    </tr>\n",
       "    <tr>\n",
       "      <td>250</td>\n",
       "      <td>169.23</td>\n",
       "      <td>171.144730</td>\n",
       "    </tr>\n",
       "  </tbody>\n",
       "</table>\n",
       "<p>251 rows × 2 columns</p>\n",
       "</div>"
      ],
      "text/plain": [
       "     y_true      y_pred\n",
       "0    116.15  115.680061\n",
       "1    116.02  115.446304\n",
       "2    116.61  115.399529\n",
       "3    117.91  115.382706\n",
       "4    118.99  115.581123\n",
       "..      ...         ...\n",
       "246  175.01  172.929825\n",
       "247  170.57  173.195526\n",
       "248  170.60  172.205353\n",
       "249  171.08  171.468674\n",
       "250  169.23  171.144730\n",
       "\n",
       "[251 rows x 2 columns]"
      ]
     },
     "execution_count": 27,
     "metadata": {},
     "output_type": "execute_result"
    },
    {
     "data": {
      "image/png": "[encoded data removed]",
      "text/plain": [
       "<Figure size 432x288 with 1 Axes>"
      ]
     },
     "metadata": {
      "needs_background": "light"
     },
     "output_type": "display_data"
    }
   ],
   "source": [
    "# 2nd example. I increase the number of n_input from 25 to 50 and create a hidden Dense layer.\n",
    "\n",
    "n_input = 50 #how many samples/rows/timesteps to look in the past in order to forecast the next sample\n",
    "n_features= X_train.shape[1] # how many predictors/Xs/features we have to predict y\n",
    "b_size = 32 # Number of timeseries samples in each batch\n",
    "generator = TimeseriesGenerator(scaled_X_train, scaled_y_train, length=n_input, batch_size=b_size) #The TimeseriesGenerator transforms the separate X and y into a structure of samples ready to train deep learning models\n",
    "\n",
    "model = Sequential()\n",
    "\n",
    "model.add(LSTM(150, activation='relu', input_shape=(n_input, n_features)))\n",
    "\n",
    "model.add(Dense(1, activation='relu'))\n",
    "\n",
    "model.add(Dense(1, activation='linear'))\n",
    "\n",
    "model.compile(loss='mean_absolute_error', optimizer='adam', metrics=['mean_absolute_error'])\n",
    "\n",
    "model.fit_generator(generator,epochs=5)\n",
    "\n",
    "X_test = test.drop(\"Close\",axis=1).copy()\n",
    "scaled_X_test = Xscaler.transform(X_test)\n",
    "test_generator = TimeseriesGenerator(scaled_X_test, np.zeros(len(X_test)), length=n_input, batch_size=b_size)\n",
    "\n",
    "y_pred_scaled = model.predict(test_generator)\n",
    "y_pred = Yscaler.inverse_transform(y_pred_scaled)\n",
    "results = pd.DataFrame({'y_true':test[\"Close\"].values[n_input:],'y_pred':y_pred.ravel()})\n",
    "\n",
    "results.plot()\n",
    "results"
   ]
  },
  {
   "cell_type": "code",
   "execution_count": 28,
   "metadata": {},
   "outputs": [
    {
     "data": {
      "text/plain": [
       "11.123620585158198"
      ]
     },
     "execution_count": 28,
     "metadata": {},
     "output_type": "execute_result"
    }
   ],
   "source": [
    "mean_squared_error(test[\"Close\"].values[n_input:], y_pred)"
   ]
  },
  {
   "cell_type": "code",
   "execution_count": 29,
   "metadata": {},
   "outputs": [
    {
     "name": "stdout",
     "output_type": "stream",
     "text": [
      "Epoch 1/5\n",
      "85/85 [==============================] - 8s 90ms/step - loss: 0.0688 - mean_absolute_error: 0.0685\n",
      "Epoch 2/5\n",
      "85/85 [==============================] - 5s 63ms/step - loss: 0.0269 - mean_absolute_error: 0.0272\n",
      "Epoch 3/5\n",
      "85/85 [==============================] - 6s 67ms/step - loss: 0.0152 - mean_absolute_error: 0.0149\n",
      "Epoch 4/5\n",
      "85/85 [==============================] - 6s 69ms/step - loss: 0.0215 - mean_absolute_error: 0.0214\n",
      "Epoch 5/5\n",
      "85/85 [==============================] - 5s 60ms/step - loss: 0.0187 - mean_absolute_error: 0.0188\n"
     ]
    },
    {
     "data": {
      "text/html": [
       "<div>\n",
       "<style scoped>\n",
       "    .dataframe tbody tr th:only-of-type {\n",
       "        vertical-align: middle;\n",
       "    }\n",
       "\n",
       "    .dataframe tbody tr th {\n",
       "        vertical-align: top;\n",
       "    }\n",
       "\n",
       "    .dataframe thead th {\n",
       "        text-align: right;\n",
       "    }\n",
       "</style>\n",
       "<table border=\"1\" class=\"dataframe\">\n",
       "  <thead>\n",
       "    <tr style=\"text-align: right;\">\n",
       "      <th></th>\n",
       "      <th>y_true</th>\n",
       "      <th>y_pred</th>\n",
       "    </tr>\n",
       "  </thead>\n",
       "  <tbody>\n",
       "    <tr>\n",
       "      <td>0</td>\n",
       "      <td>111.79</td>\n",
       "      <td>109.764687</td>\n",
       "    </tr>\n",
       "    <tr>\n",
       "      <td>1</td>\n",
       "      <td>111.57</td>\n",
       "      <td>110.138832</td>\n",
       "    </tr>\n",
       "    <tr>\n",
       "      <td>2</td>\n",
       "      <td>111.46</td>\n",
       "      <td>110.441887</td>\n",
       "    </tr>\n",
       "    <tr>\n",
       "      <td>3</td>\n",
       "      <td>110.52</td>\n",
       "      <td>110.444847</td>\n",
       "    </tr>\n",
       "    <tr>\n",
       "      <td>4</td>\n",
       "      <td>109.49</td>\n",
       "      <td>110.533791</td>\n",
       "    </tr>\n",
       "    <tr>\n",
       "      <td>...</td>\n",
       "      <td>...</td>\n",
       "      <td>...</td>\n",
       "    </tr>\n",
       "    <tr>\n",
       "      <td>271</td>\n",
       "      <td>175.01</td>\n",
       "      <td>174.956085</td>\n",
       "    </tr>\n",
       "    <tr>\n",
       "      <td>272</td>\n",
       "      <td>170.57</td>\n",
       "      <td>175.252472</td>\n",
       "    </tr>\n",
       "    <tr>\n",
       "      <td>273</td>\n",
       "      <td>170.60</td>\n",
       "      <td>174.195831</td>\n",
       "    </tr>\n",
       "    <tr>\n",
       "      <td>274</td>\n",
       "      <td>171.08</td>\n",
       "      <td>173.419250</td>\n",
       "    </tr>\n",
       "    <tr>\n",
       "      <td>275</td>\n",
       "      <td>169.23</td>\n",
       "      <td>173.086655</td>\n",
       "    </tr>\n",
       "  </tbody>\n",
       "</table>\n",
       "<p>276 rows × 2 columns</p>\n",
       "</div>"
      ],
      "text/plain": [
       "     y_true      y_pred\n",
       "0    111.79  109.764687\n",
       "1    111.57  110.138832\n",
       "2    111.46  110.441887\n",
       "3    110.52  110.444847\n",
       "4    109.49  110.533791\n",
       "..      ...         ...\n",
       "271  175.01  174.956085\n",
       "272  170.57  175.252472\n",
       "273  170.60  174.195831\n",
       "274  171.08  173.419250\n",
       "275  169.23  173.086655\n",
       "\n",
       "[276 rows x 2 columns]"
      ]
     },
     "execution_count": 29,
     "metadata": {},
     "output_type": "execute_result"
    },
    {
     "data": {
      "image/png": "[encoded data removed]",
      "text/plain": [
       "<Figure size 432x288 with 1 Axes>"
      ]
     },
     "metadata": {
      "needs_background": "light"
     },
     "output_type": "display_data"
    }
   ],
   "source": [
    "# 3rd example. I returned n_input to 25 and increase the number of neurons of the hidden layer to 200.\n",
    "\n",
    "n_input = 25 #how many samples/rows/timesteps to look in the past in order to forecast the next sample\n",
    "n_features= X_train.shape[1] # how many predictors/Xs/features we have to predict y\n",
    "b_size = 32 # Number of timeseries samples in each batch\n",
    "generator = TimeseriesGenerator(scaled_X_train, scaled_y_train, length=n_input, batch_size=b_size) #The TimeseriesGenerator transforms the separate X and y into a structure of samples ready to train deep learning models\n",
    "\n",
    "model = Sequential()\n",
    "\n",
    "model.add(LSTM(150, activation='relu', input_shape=(n_input, n_features)))\n",
    "\n",
    "model.add(Dense(200, activation='relu'))\n",
    "\n",
    "model.add(Dense(1, activation='linear'))\n",
    "\n",
    "model.compile(loss='mean_absolute_error', optimizer='adam', metrics=['mean_absolute_error'])\n",
    "\n",
    "model.fit_generator(generator,epochs=5)\n",
    "\n",
    "X_test = test.drop(\"Close\",axis=1).copy()\n",
    "scaled_X_test = Xscaler.transform(X_test)\n",
    "test_generator = TimeseriesGenerator(scaled_X_test, np.zeros(len(X_test)), length=n_input, batch_size=b_size)\n",
    "\n",
    "y_pred_scaled = model.predict(test_generator)\n",
    "y_pred = Yscaler.inverse_transform(y_pred_scaled)\n",
    "results = pd.DataFrame({'y_true':test[\"Close\"].values[n_input:],'y_pred':y_pred.ravel()})\n",
    "\n",
    "results.plot()\n",
    "results"
   ]
  },
  {
   "cell_type": "code",
   "execution_count": 30,
   "metadata": {},
   "outputs": [
    {
     "data": {
      "text/plain": [
       "7.939756572090363"
      ]
     },
     "execution_count": 30,
     "metadata": {},
     "output_type": "execute_result"
    }
   ],
   "source": [
    "mean_squared_error(test[\"Close\"].values[n_input:], y_pred)"
   ]
  },
  {
   "cell_type": "code",
   "execution_count": 31,
   "metadata": {},
   "outputs": [
    {
     "name": "stdout",
     "output_type": "stream",
     "text": [
      "Epoch 1/5\n",
      "85/85 [==============================] - 8s 99ms/step - loss: 0.0627 - mean_absolute_error: 0.0625\n",
      "Epoch 2/5\n",
      "85/85 [==============================] - 6s 69ms/step - loss: 0.0607 - mean_absolute_error: 0.0611\n",
      "Epoch 3/5\n",
      "85/85 [==============================] - 6s 74ms/step - loss: 0.0762 - mean_absolute_error: 0.0750\n",
      "Epoch 4/5\n",
      "85/85 [==============================] - 6s 66ms/step - loss: 0.0360 - mean_absolute_error: 0.0357\n",
      "Epoch 5/5\n",
      "85/85 [==============================] - 6s 74ms/step - loss: 0.0270 - mean_absolute_error: 0.0270\n"
     ]
    },
    {
     "data": {
      "text/html": [
       "<div>\n",
       "<style scoped>\n",
       "    .dataframe tbody tr th:only-of-type {\n",
       "        vertical-align: middle;\n",
       "    }\n",
       "\n",
       "    .dataframe tbody tr th {\n",
       "        vertical-align: top;\n",
       "    }\n",
       "\n",
       "    .dataframe thead th {\n",
       "        text-align: right;\n",
       "    }\n",
       "</style>\n",
       "<table border=\"1\" class=\"dataframe\">\n",
       "  <thead>\n",
       "    <tr style=\"text-align: right;\">\n",
       "      <th></th>\n",
       "      <th>y_true</th>\n",
       "      <th>y_pred</th>\n",
       "    </tr>\n",
       "  </thead>\n",
       "  <tbody>\n",
       "    <tr>\n",
       "      <td>0</td>\n",
       "      <td>111.79</td>\n",
       "      <td>97.813133</td>\n",
       "    </tr>\n",
       "    <tr>\n",
       "      <td>1</td>\n",
       "      <td>111.57</td>\n",
       "      <td>98.171585</td>\n",
       "    </tr>\n",
       "    <tr>\n",
       "      <td>2</td>\n",
       "      <td>111.46</td>\n",
       "      <td>98.433464</td>\n",
       "    </tr>\n",
       "    <tr>\n",
       "      <td>3</td>\n",
       "      <td>110.52</td>\n",
       "      <td>98.396011</td>\n",
       "    </tr>\n",
       "    <tr>\n",
       "      <td>4</td>\n",
       "      <td>109.49</td>\n",
       "      <td>98.444649</td>\n",
       "    </tr>\n",
       "    <tr>\n",
       "      <td>...</td>\n",
       "      <td>...</td>\n",
       "      <td>...</td>\n",
       "    </tr>\n",
       "    <tr>\n",
       "      <td>271</td>\n",
       "      <td>175.01</td>\n",
       "      <td>154.830872</td>\n",
       "    </tr>\n",
       "    <tr>\n",
       "      <td>272</td>\n",
       "      <td>170.57</td>\n",
       "      <td>155.068100</td>\n",
       "    </tr>\n",
       "    <tr>\n",
       "      <td>273</td>\n",
       "      <td>170.60</td>\n",
       "      <td>153.938599</td>\n",
       "    </tr>\n",
       "    <tr>\n",
       "      <td>274</td>\n",
       "      <td>171.08</td>\n",
       "      <td>153.200348</td>\n",
       "    </tr>\n",
       "    <tr>\n",
       "      <td>275</td>\n",
       "      <td>169.23</td>\n",
       "      <td>152.953629</td>\n",
       "    </tr>\n",
       "  </tbody>\n",
       "</table>\n",
       "<p>276 rows × 2 columns</p>\n",
       "</div>"
      ],
      "text/plain": [
       "     y_true      y_pred\n",
       "0    111.79   97.813133\n",
       "1    111.57   98.171585\n",
       "2    111.46   98.433464\n",
       "3    110.52   98.396011\n",
       "4    109.49   98.444649\n",
       "..      ...         ...\n",
       "271  175.01  154.830872\n",
       "272  170.57  155.068100\n",
       "273  170.60  153.938599\n",
       "274  171.08  153.200348\n",
       "275  169.23  152.953629\n",
       "\n",
       "[276 rows x 2 columns]"
      ]
     },
     "execution_count": 31,
     "metadata": {},
     "output_type": "execute_result"
    },
    {
     "data": {
      "image/png": "[encoded data removed]",
      "text/plain": [
       "<Figure size 432x288 with 1 Axes>"
      ]
     },
     "metadata": {
      "needs_background": "light"
     },
     "output_type": "display_data"
    }
   ],
   "source": [
    "# 4th. I create three more hidden layers with 300 neurons.\n",
    "\n",
    "n_input = 25 #how many samples/rows/timesteps to look in the past in order to forecast the next sample\n",
    "n_features= X_train.shape[1] # how many predictors/Xs/features we have to predict y\n",
    "b_size = 32 # Number of timeseries samples in each batch\n",
    "generator = TimeseriesGenerator(scaled_X_train, scaled_y_train, length=n_input, batch_size=b_size) #The TimeseriesGenerator transforms the separate X and y into a structure of samples ready to train deep learning models\n",
    "\n",
    "model = Sequential()\n",
    "\n",
    "model.add(LSTM(150, activation='relu', input_shape=(n_input, n_features)))\n",
    "\n",
    "model.add(Dense(200, activation='relu'))\n",
    "model.add(Dense(300, activation='relu'))\n",
    "model.add(Dense(300, activation='relu'))\n",
    "model.add(Dense(300, activation='relu'))\n",
    "\n",
    "model.add(Dense(1, activation='linear'))\n",
    "\n",
    "model.compile(loss='mean_absolute_error', optimizer='adam', metrics=['mean_absolute_error'])\n",
    "\n",
    "model.fit_generator(generator,epochs=5)\n",
    "\n",
    "X_test = test.drop(\"Close\",axis=1).copy()\n",
    "scaled_X_test = Xscaler.transform(X_test)\n",
    "test_generator = TimeseriesGenerator(scaled_X_test, np.zeros(len(X_test)), length=n_input, batch_size=b_size)\n",
    "\n",
    "y_pred_scaled = model.predict(test_generator)\n",
    "y_pred = Yscaler.inverse_transform(y_pred_scaled)\n",
    "results = pd.DataFrame({'y_true':test[\"Close\"].values[n_input:],'y_pred':y_pred.ravel()})\n",
    "\n",
    "results.plot()\n",
    "results"
   ]
  },
  {
   "cell_type": "code",
   "execution_count": 32,
   "metadata": {},
   "outputs": [
    {
     "data": {
      "text/plain": [
       "304.48884382311627"
      ]
     },
     "execution_count": 32,
     "metadata": {},
     "output_type": "execute_result"
    }
   ],
   "source": [
    "mean_squared_error(test[\"Close\"].values[n_input:], y_pred)"
   ]
  },
  {
   "cell_type": "code",
   "execution_count": 33,
   "metadata": {},
   "outputs": [
    {
     "name": "stdout",
     "output_type": "stream",
     "text": [
      "Epoch 1/10\n",
      "85/85 [==============================] - 8s 96ms/step - loss: 0.0707 - mean_absolute_error: 0.0709\n",
      "Epoch 2/10\n",
      "85/85 [==============================] - 6s 73ms/step - loss: 0.0179 - mean_absolute_error: 0.0177\n",
      "Epoch 3/10\n",
      "85/85 [==============================] - 5s 63ms/step - loss: 0.0186 - mean_absolute_error: 0.0186\n",
      "Epoch 4/10\n",
      "85/85 [==============================] - 6s 72ms/step - loss: 0.0156 - mean_absolute_error: 0.0158\n",
      "Epoch 5/10\n",
      "85/85 [==============================] - 6s 73ms/step - loss: 0.0169 - mean_absolute_error: 0.0167\n",
      "Epoch 6/10\n",
      "85/85 [==============================] - 5s 64ms/step - loss: 0.0157 - mean_absolute_error: 0.0157\n",
      "Epoch 7/10\n",
      "85/85 [==============================] - 6s 73ms/step - loss: 0.0166 - mean_absolute_error: 0.0166\n",
      "Epoch 8/10\n",
      "85/85 [==============================] - 6s 68ms/step - loss: 0.0107 - mean_absolute_error: 0.0107\n",
      "Epoch 9/10\n",
      "85/85 [==============================] - 6s 71ms/step - loss: 0.0211 - mean_absolute_error: 0.0212\n",
      "Epoch 10/10\n",
      "85/85 [==============================] - 6s 70ms/step - loss: 0.0192 - mean_absolute_error: 0.0193\n"
     ]
    },
    {
     "data": {
      "text/html": [
       "<div>\n",
       "<style scoped>\n",
       "    .dataframe tbody tr th:only-of-type {\n",
       "        vertical-align: middle;\n",
       "    }\n",
       "\n",
       "    .dataframe tbody tr th {\n",
       "        vertical-align: top;\n",
       "    }\n",
       "\n",
       "    .dataframe thead th {\n",
       "        text-align: right;\n",
       "    }\n",
       "</style>\n",
       "<table border=\"1\" class=\"dataframe\">\n",
       "  <thead>\n",
       "    <tr style=\"text-align: right;\">\n",
       "      <th></th>\n",
       "      <th>y_true</th>\n",
       "      <th>y_pred</th>\n",
       "    </tr>\n",
       "  </thead>\n",
       "  <tbody>\n",
       "    <tr>\n",
       "      <td>0</td>\n",
       "      <td>111.79</td>\n",
       "      <td>105.772354</td>\n",
       "    </tr>\n",
       "    <tr>\n",
       "      <td>1</td>\n",
       "      <td>111.57</td>\n",
       "      <td>106.115753</td>\n",
       "    </tr>\n",
       "    <tr>\n",
       "      <td>2</td>\n",
       "      <td>111.46</td>\n",
       "      <td>106.370796</td>\n",
       "    </tr>\n",
       "    <tr>\n",
       "      <td>3</td>\n",
       "      <td>110.52</td>\n",
       "      <td>106.341385</td>\n",
       "    </tr>\n",
       "    <tr>\n",
       "      <td>4</td>\n",
       "      <td>109.49</td>\n",
       "      <td>106.426086</td>\n",
       "    </tr>\n",
       "    <tr>\n",
       "      <td>...</td>\n",
       "      <td>...</td>\n",
       "      <td>...</td>\n",
       "    </tr>\n",
       "    <tr>\n",
       "      <td>271</td>\n",
       "      <td>175.01</td>\n",
       "      <td>166.177246</td>\n",
       "    </tr>\n",
       "    <tr>\n",
       "      <td>272</td>\n",
       "      <td>170.57</td>\n",
       "      <td>166.397263</td>\n",
       "    </tr>\n",
       "    <tr>\n",
       "      <td>273</td>\n",
       "      <td>170.60</td>\n",
       "      <td>165.189545</td>\n",
       "    </tr>\n",
       "    <tr>\n",
       "      <td>274</td>\n",
       "      <td>171.08</td>\n",
       "      <td>164.397491</td>\n",
       "    </tr>\n",
       "    <tr>\n",
       "      <td>275</td>\n",
       "      <td>169.23</td>\n",
       "      <td>164.125809</td>\n",
       "    </tr>\n",
       "  </tbody>\n",
       "</table>\n",
       "<p>276 rows × 2 columns</p>\n",
       "</div>"
      ],
      "text/plain": [
       "     y_true      y_pred\n",
       "0    111.79  105.772354\n",
       "1    111.57  106.115753\n",
       "2    111.46  106.370796\n",
       "3    110.52  106.341385\n",
       "4    109.49  106.426086\n",
       "..      ...         ...\n",
       "271  175.01  166.177246\n",
       "272  170.57  166.397263\n",
       "273  170.60  165.189545\n",
       "274  171.08  164.397491\n",
       "275  169.23  164.125809\n",
       "\n",
       "[276 rows x 2 columns]"
      ]
     },
     "execution_count": 33,
     "metadata": {},
     "output_type": "execute_result"
    },
    {
     "data": {
      "image/png": "[encoded data removed]",
      "text/plain": [
       "<Figure size 432x288 with 1 Axes>"
      ]
     },
     "metadata": {
      "needs_background": "light"
     },
     "output_type": "display_data"
    }
   ],
   "source": [
    "# 5th example. I returned to example 3 and increase the number of epochs to 10\n",
    "\n",
    "n_input = 25 #how many samples/rows/timesteps to look in the past in order to forecast the next sample\n",
    "n_features= X_train.shape[1] # how many predictors/Xs/features we have to predict y\n",
    "b_size = 32 # Number of timeseries samples in each batch\n",
    "generator = TimeseriesGenerator(scaled_X_train, scaled_y_train, length=n_input, batch_size=b_size) #The TimeseriesGenerator transforms the separate X and y into a structure of samples ready to train deep learning models\n",
    "\n",
    "model = Sequential()\n",
    "model.add(LSTM(150, activation='relu', input_shape=(n_input, n_features)))\n",
    "\n",
    "model.add(Dense(200, activation='relu'))\n",
    "\n",
    "model.add(Dense(1, activation='linear'))\n",
    "\n",
    "model.compile(loss='mean_absolute_error', optimizer='adam', metrics=['mean_absolute_error'])\n",
    "\n",
    "model.fit_generator(generator,epochs=10)\n",
    "\n",
    "X_test = test.drop(\"Close\",axis=1).copy()\n",
    "scaled_X_test = Xscaler.transform(X_test)\n",
    "test_generator = TimeseriesGenerator(scaled_X_test, np.zeros(len(X_test)), length=n_input, batch_size=b_size)\n",
    "\n",
    "y_pred_scaled = model.predict(test_generator)\n",
    "y_pred = Yscaler.inverse_transform(y_pred_scaled)\n",
    "results = pd.DataFrame({'y_true':test[\"Close\"].values[n_input:],'y_pred':y_pred.ravel()})\n",
    "\n",
    "results.plot()\n",
    "results"
   ]
  },
  {
   "cell_type": "code",
   "execution_count": 34,
   "metadata": {},
   "outputs": [
    {
     "data": {
      "text/plain": [
       "59.84458318027"
      ]
     },
     "execution_count": 34,
     "metadata": {},
     "output_type": "execute_result"
    }
   ],
   "source": [
    "mean_squared_error(test[\"Close\"].values[n_input:], y_pred)"
   ]
  },
  {
   "cell_type": "code",
   "execution_count": 35,
   "metadata": {},
   "outputs": [
    {
     "name": "stdout",
     "output_type": "stream",
     "text": [
      "Epoch 1/10\n",
      "135/135 [==============================] - 11s 84ms/step - loss: 0.0547 - mean_absolute_error: 0.0548- ETA: 3s - loss: 0.0669 - - ETA: 0s - loss: 0.0566 - mean_absolute_error:\n",
      "Epoch 2/10\n",
      "135/135 [==============================] - 8s 59ms/step - loss: 0.0157 - mean_absolute_error: 0.0158\n",
      "Epoch 3/10\n",
      "135/135 [==============================] - 9s 64ms/step - loss: 0.0230 - mean_absolute_error: 0.0229\n",
      "Epoch 4/10\n",
      "135/135 [==============================] - 8s 60ms/step - loss: 0.0253 - mean_absolute_error: 0.0250:  - ETA: 2s - loss: 0.0 - ETA: 0s - loss: 0.0255 - mean_absolute_error: 0.025\n",
      "Epoch 5/10\n",
      "135/135 [==============================] - 9s 63ms/step - loss: 0.0120 - mean_absolute_error: 0.0120\n",
      "Epoch 6/10\n",
      "135/135 [==============================] - 9s 65ms/step - loss: 0.0233 - mean_absolute_error: 0.0231\n",
      "Epoch 7/10\n",
      "135/135 [==============================] - 9s 65ms/step - loss: 0.0195 - mean_absolute_error: 0.0193\n",
      "Epoch 8/10\n",
      "135/135 [==============================] - 9s 69ms/step - loss: 0.0146 - mean_absolute_error: 0.0146\n",
      "Epoch 9/10\n",
      "135/135 [==============================] - 9s 67ms/step - loss: 0.0119 - mean_absolute_error: 0.0119\n",
      "Epoch 10/10\n",
      "135/135 [==============================] - 6s 46ms/step - loss: 0.0109 - mean_absolute_error: 0.0109: 1s - loss: 0.0114 - mean_absolut\n"
     ]
    },
    {
     "data": {
      "text/html": [
       "<div>\n",
       "<style scoped>\n",
       "    .dataframe tbody tr th:only-of-type {\n",
       "        vertical-align: middle;\n",
       "    }\n",
       "\n",
       "    .dataframe tbody tr th {\n",
       "        vertical-align: top;\n",
       "    }\n",
       "\n",
       "    .dataframe thead th {\n",
       "        text-align: right;\n",
       "    }\n",
       "</style>\n",
       "<table border=\"1\" class=\"dataframe\">\n",
       "  <thead>\n",
       "    <tr style=\"text-align: right;\">\n",
       "      <th></th>\n",
       "      <th>y_true</th>\n",
       "      <th>y_pred</th>\n",
       "    </tr>\n",
       "  </thead>\n",
       "  <tbody>\n",
       "    <tr>\n",
       "      <td>0</td>\n",
       "      <td>111.79</td>\n",
       "      <td>110.981964</td>\n",
       "    </tr>\n",
       "    <tr>\n",
       "      <td>1</td>\n",
       "      <td>111.57</td>\n",
       "      <td>111.306740</td>\n",
       "    </tr>\n",
       "    <tr>\n",
       "      <td>2</td>\n",
       "      <td>111.46</td>\n",
       "      <td>111.535400</td>\n",
       "    </tr>\n",
       "    <tr>\n",
       "      <td>3</td>\n",
       "      <td>110.52</td>\n",
       "      <td>111.401718</td>\n",
       "    </tr>\n",
       "    <tr>\n",
       "      <td>4</td>\n",
       "      <td>109.49</td>\n",
       "      <td>111.458191</td>\n",
       "    </tr>\n",
       "    <tr>\n",
       "      <td>...</td>\n",
       "      <td>...</td>\n",
       "      <td>...</td>\n",
       "    </tr>\n",
       "    <tr>\n",
       "      <td>271</td>\n",
       "      <td>175.01</td>\n",
       "      <td>172.208099</td>\n",
       "    </tr>\n",
       "    <tr>\n",
       "      <td>272</td>\n",
       "      <td>170.57</td>\n",
       "      <td>172.366562</td>\n",
       "    </tr>\n",
       "    <tr>\n",
       "      <td>273</td>\n",
       "      <td>170.60</td>\n",
       "      <td>170.743011</td>\n",
       "    </tr>\n",
       "    <tr>\n",
       "      <td>274</td>\n",
       "      <td>171.08</td>\n",
       "      <td>169.744110</td>\n",
       "    </tr>\n",
       "    <tr>\n",
       "      <td>275</td>\n",
       "      <td>169.23</td>\n",
       "      <td>169.499985</td>\n",
       "    </tr>\n",
       "  </tbody>\n",
       "</table>\n",
       "<p>276 rows × 2 columns</p>\n",
       "</div>"
      ],
      "text/plain": [
       "     y_true      y_pred\n",
       "0    111.79  110.981964\n",
       "1    111.57  111.306740\n",
       "2    111.46  111.535400\n",
       "3    110.52  111.401718\n",
       "4    109.49  111.458191\n",
       "..      ...         ...\n",
       "271  175.01  172.208099\n",
       "272  170.57  172.366562\n",
       "273  170.60  170.743011\n",
       "274  171.08  169.744110\n",
       "275  169.23  169.499985\n",
       "\n",
       "[276 rows x 2 columns]"
      ]
     },
     "execution_count": 35,
     "metadata": {},
     "output_type": "execute_result"
    },
    {
     "data": {
      "image/png": "[encoded data removed]",
      "text/plain": [
       "<Figure size 432x288 with 1 Axes>"
      ]
     },
     "metadata": {
      "needs_background": "light"
     },
     "output_type": "display_data"
    }
   ],
   "source": [
    "# 6th example. The same as number 5, but with batch_size 20.\n",
    "\n",
    "n_input = 25 #how many samples/rows/timesteps to look in the past in order to forecast the next sample\n",
    "n_features= X_train.shape[1] # how many predictors/Xs/features we have to predict y\n",
    "b_size = 20 # Number of timeseries samples in each batch\n",
    "generator = TimeseriesGenerator(scaled_X_train, scaled_y_train, length=n_input, batch_size=b_size) #The TimeseriesGenerator transforms the separate X and y into a structure of samples ready to train deep learning models\n",
    "\n",
    "model = Sequential()\n",
    "model.add(LSTM(150, activation='relu', input_shape=(n_input, n_features)))\n",
    "\n",
    "model.add(Dense(200, activation='relu'))\n",
    "\n",
    "model.add(Dense(1, activation='linear'))\n",
    "\n",
    "model.compile(loss='mean_absolute_error', optimizer='adam', metrics=['mean_absolute_error'])\n",
    "\n",
    "model.fit_generator(generator,epochs=10)\n",
    "\n",
    "X_test = test.drop(\"Close\",axis=1).copy()\n",
    "scaled_X_test = Xscaler.transform(X_test)\n",
    "test_generator = TimeseriesGenerator(scaled_X_test, np.zeros(len(X_test)), length=n_input, batch_size=b_size)\n",
    "\n",
    "y_pred_scaled = model.predict(test_generator)\n",
    "y_pred = Yscaler.inverse_transform(y_pred_scaled)\n",
    "results = pd.DataFrame({'y_true':test[\"Close\"].values[n_input:],'y_pred':y_pred.ravel()})\n",
    "\n",
    "results.plot()\n",
    "results"
   ]
  },
  {
   "cell_type": "code",
   "execution_count": 36,
   "metadata": {},
   "outputs": [
    {
     "data": {
      "text/plain": [
       "7.962582949729587"
      ]
     },
     "execution_count": 36,
     "metadata": {},
     "output_type": "execute_result"
    }
   ],
   "source": [
    "mean_squared_error(test[\"Close\"].values[n_input:], y_pred)"
   ]
  }
 ],
 "metadata": {
  "kernelspec": {
   "display_name": "Python 3",
   "language": "python",
   "name": "python3"
  },
  "language_info": {
   "codemirror_mode": {
    "name": "ipython",
    "version": 3
   },
   "file_extension": ".py",
   "mimetype": "text/x-python",
   "name": "python",
   "nbconvert_exporter": "python",
   "pygments_lexer": "ipython3",
   "version": "3.7.4"
  }
 },
 "nbformat": 4,
 "nbformat_minor": 5
}
